{
 "cells": [
  {
   "cell_type": "code",
   "execution_count": null,
   "metadata": {
    "collapsed": false
   },
   "outputs": [],
   "source": [
    "# hash package for R\n",
    "# Thanks to Christopher Brown for this handy package\n",
    "# author: Srikanth KS\n",
    "library(\"hash\")\n",
    "packageVersion(\"hash\")\n",
    "R.Version()$version.string\n",
    "\n",
    "# helper libraries\n",
    "library(\"pryr\")\n",
    "library(\"peakRAM\")\n"
   ]
  },
  {
   "cell_type": "code",
   "execution_count": null,
   "metadata": {
    "collapsed": false
   },
   "outputs": [],
   "source": [
    "# create a dict starting with empty\n",
    "adict <- hash()\n",
    "\n",
    "# create a few KV pairs\n",
    "adict[[\"hello\"]] <- 1L\n",
    "adict[[\"world\"]] <- iris[1:2,]\n",
    "\n",
    "# recall an existing value for a key\n",
    "adict[[\"world\"]]\n",
    "\n",
    "# recalling non-existing key returns NULL\n",
    "adict[[\"hi\"]]\n",
    "\n",
    "# non-character key will be coerced, but it might not be a good practice\n",
    "adict[100] <- 1000\n",
    "\n",
    "# assigning NULL value is not possible\n",
    "adict[[\"nothing\"]] <- NULL\n",
    "\n",
    "# gets keys, values, length\n",
    "keys(adict)   # returns a character vector\n",
    "values(adict) # returns a named list\n",
    "length(adict) # returns a positive integer\n",
    "\n",
    "# delete a KV pair\n",
    "del(\"100\", adict)\n",
    "\n",
    "# check for key existence, helpful for assertions\n",
    "has.key(c(\"hello\", \"100\"), adict)\n"
   ]
  },
  {
   "cell_type": "code",
   "execution_count": null,
   "metadata": {
    "collapsed": false
   },
   "outputs": [],
   "source": [
    "# constructing a hash object with keys and values\n",
    "alph_dict <- hash( letters, 1:26 )\n",
    "\n",
    "# invert a dict, there might be corecion issues\n",
    "# to be used when one is sure\n",
    "inverted_alph_dict <- invert(alph_dict)\n",
    "inverted_alph_dict\n"
   ]
  },
  {
   "cell_type": "code",
   "execution_count": null,
   "metadata": {
    "collapsed": false
   },
   "outputs": [],
   "source": [
    "# hash is an S4 object built on top of an environment\n",
    "class(adict)\n",
    "str(adict)\n",
    "ls(unclass(adict))\n",
    "unclass(adict)[[\"hello\"]]\n",
    "\n",
    "# making a copy of the hash\n",
    "# since hash is a reference class object, we need a explicit copy\n",
    "\n",
    "alph_dict2 <- copy(alph_dict)\n",
    "identical(keys(alph_dict), keys(alph_dict2))\n",
    "identical(values(alph_dict), values(alph_dict2))\n",
    "\n",
    "# the copy will at a different address location\n",
    "address(alph_dict)\n",
    "address(alph_dict2)\n"
   ]
  },
  {
   "cell_type": "code",
   "execution_count": null,
   "metadata": {
    "collapsed": false
   },
   "outputs": [],
   "source": [
    "# lets make time and memory comparisions\n",
    "number_hash <- hash()\n",
    "for(i in 1:1e5){\n",
    "  number_hash[[as.character(i)]] = i\n",
    "}\n",
    "\n",
    "number_list <- as.list(1:1e5)\n",
    "names(number_list) <- as.character(1:1e5)\n",
    "\n",
    "# the size comparision does not make sense\n",
    "# hash object, essentially an environment, is little more than a hash map\n",
    "object.size(number_list)\n",
    "object.size(number_hash)\n",
    "\n",
    "key_sample <- sample(as.character(1:1e5), 1e3)\n",
    "\n",
    "peakRAM(\n",
    "  for(akey in key_sample){\n",
    "    number_hash[[akey]]\n",
    "  }\n",
    ")\n",
    "\n",
    "peakRAM(\n",
    "  for(akey in key_sample){\n",
    "    number_list[[akey]]\n",
    "  }\n",
    ")\n"
   ]
  },
  {
   "cell_type": "code",
   "execution_count": null,
   "metadata": {
    "collapsed": false
   },
   "outputs": [],
   "source": [
    "# finally, clearing a hash object\n",
    "clear(number_hash)\n",
    "is.empty(number_hash)\n"
   ]
  },
  {
   "cell_type": "code",
   "execution_count": null,
   "metadata": {
    "collapsed": false
   },
   "outputs": [],
   "source": [
    "# clear the clutter\n",
    "rm(adict\n",
    "   , akey\n",
    "   , alph_dict\n",
    "   , alph_dict2\n",
    "   , i\n",
    "   , inverted_alph_dict\n",
    "   , key_sample\n",
    "   , number_hash\n",
    "   , number_list\n",
    "   )\n",
    "detach(\"package:hash\", unload = TRUE)\n",
    "detach(\"package:pryr\", unload = TRUE)\n",
    "detach(\"package:peakRAM\", unload = TRUE)\n"
   ]
  }
 ],
 "metadata": {
  "kernelspec": {
   "display_name": "R",
   "language": "R",
   "name": "ir"
  },
  "language_info": {
   "codemirror_mode": "r",
   "file_extension": ".r",
   "mimetype": "text/x-r-source",
   "name": "R",
   "pygments_lexer": "r",
   "version": "3.3.2"
  }
 },
 "nbformat": 4,
 "nbformat_minor": 2
}
